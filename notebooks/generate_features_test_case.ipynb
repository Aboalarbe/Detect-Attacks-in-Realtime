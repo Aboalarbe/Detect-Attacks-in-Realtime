{
 "cells": [
  {
   "cell_type": "code",
   "execution_count": 3,
   "id": "e491ef37",
   "metadata": {},
   "outputs": [],
   "source": [
    "import tldextract\n",
    "from collections import Counter\n",
    "import numpy as np\n",
    "import pandas as pd "
   ]
  },
  {
   "cell_type": "code",
   "execution_count": 4,
   "id": "c0fb71cb",
   "metadata": {},
   "outputs": [],
   "source": [
    "url = \"Y9HTqaP.3964356131393331323865343962.maliciousDomain.com\""
   ]
  },
  {
   "cell_type": "code",
   "execution_count": 5,
   "id": "071d0f26",
   "metadata": {},
   "outputs": [],
   "source": [
    "def chr_count_FQN(url):\n",
    "    chr_sum= 0\n",
    "    for i in url:\n",
    "        if i==\".\":\n",
    "            continue\n",
    "        else: \n",
    "            chr_sum += 1\n",
    "    return chr_sum"
   ]
  },
  {
   "cell_type": "code",
   "execution_count": 6,
   "id": "dd102596",
   "metadata": {},
   "outputs": [
    {
     "data": {
      "text/plain": [
       "53"
      ]
     },
     "execution_count": 6,
     "metadata": {},
     "output_type": "execute_result"
    }
   ],
   "source": [
    "chr_count_FQN(url)"
   ]
  },
  {
   "cell_type": "code",
   "execution_count": 7,
   "id": "bddfa368",
   "metadata": {},
   "outputs": [],
   "source": [
    "def sub_domain_count(url):\n",
    "    sub_domain, _ , __ =tldextract.extract(url)\n",
    "    return chr_count_FQN(sub_domain)"
   ]
  },
  {
   "cell_type": "code",
   "execution_count": 8,
   "id": "5d7fe54d",
   "metadata": {},
   "outputs": [
    {
     "data": {
      "text/plain": [
       "35"
      ]
     },
     "execution_count": 8,
     "metadata": {},
     "output_type": "execute_result"
    }
   ],
   "source": [
    "sub_domain_count(url)"
   ]
  },
  {
   "cell_type": "code",
   "execution_count": 9,
   "id": "a11fe5d8",
   "metadata": {},
   "outputs": [],
   "source": [
    "def upper_count(url):\n",
    "    up_sum = 0\n",
    "    for i in url:\n",
    "        if i.isupper():\n",
    "            up_sum += 1\n",
    "    return up_sum"
   ]
  },
  {
   "cell_type": "code",
   "execution_count": 10,
   "id": "bd7196a1",
   "metadata": {},
   "outputs": [
    {
     "data": {
      "text/plain": [
       "5"
      ]
     },
     "execution_count": 10,
     "metadata": {},
     "output_type": "execute_result"
    }
   ],
   "source": [
    "upper_count(url)"
   ]
  },
  {
   "cell_type": "code",
   "execution_count": 11,
   "id": "07be67e8",
   "metadata": {},
   "outputs": [],
   "source": [
    "def lower_count(url):\n",
    "    low_sum = 0\n",
    "    for i in url:\n",
    "        if (i.islower()==True) and (i.isdigit()==False):\n",
    "            low_sum += 1\n",
    "    return low_sum"
   ]
  },
  {
   "cell_type": "code",
   "execution_count": 12,
   "id": "8afc4e61",
   "metadata": {},
   "outputs": [
    {
     "data": {
      "text/plain": [
       "19"
      ]
     },
     "execution_count": 12,
     "metadata": {},
     "output_type": "execute_result"
    }
   ],
   "source": [
    "lower_count(url)"
   ]
  },
  {
   "cell_type": "code",
   "execution_count": 13,
   "id": "eec8a93c",
   "metadata": {},
   "outputs": [],
   "source": [
    "def numeric_count(url):\n",
    "    num_sum = 0\n",
    "    for i in url:\n",
    "        if i.isnumeric():\n",
    "            num_sum += 1\n",
    "    return num_sum"
   ]
  },
  {
   "cell_type": "code",
   "execution_count": 14,
   "id": "bfcabfe6",
   "metadata": {},
   "outputs": [
    {
     "data": {
      "text/plain": [
       "29"
      ]
     },
     "execution_count": 14,
     "metadata": {},
     "output_type": "execute_result"
    }
   ],
   "source": [
    "numeric_count(url)"
   ]
  },
  {
   "cell_type": "code",
   "execution_count": 15,
   "id": "6ca03c77",
   "metadata": {},
   "outputs": [],
   "source": [
    "def entropy_count(url):\n",
    "    pb, lenn = Counter(url), float(len(url))\n",
    "    return - sum( count/lenn * np.log2(count/lenn) for count in pb.values())"
   ]
  },
  {
   "cell_type": "code",
   "execution_count": 16,
   "id": "c1882c72",
   "metadata": {},
   "outputs": [
    {
     "data": {
      "text/plain": [
       "4.189800050307763"
      ]
     },
     "execution_count": 16,
     "metadata": {},
     "output_type": "execute_result"
    }
   ],
   "source": [
    "entropy_count(url)"
   ]
  },
  {
   "cell_type": "code",
   "execution_count": 17,
   "id": "c6305035",
   "metadata": {},
   "outputs": [],
   "source": [
    "def chr_special_count(url): \n",
    "    special_sum= 0\n",
    "    for i in url:\n",
    "        if (i.isalpha()) or (i.isdigit() or i == '.'):\n",
    "            continue\n",
    "        else: \n",
    "            special_sum += 1\n",
    "    return special_sum"
   ]
  },
  {
   "cell_type": "code",
   "execution_count": 18,
   "id": "9029320e",
   "metadata": {},
   "outputs": [
    {
     "data": {
      "text/plain": [
       "0"
      ]
     },
     "execution_count": 18,
     "metadata": {},
     "output_type": "execute_result"
    }
   ],
   "source": [
    "chr_special_count(url)"
   ]
  },
  {
   "cell_type": "code",
   "execution_count": 19,
   "id": "bcec4725",
   "metadata": {},
   "outputs": [],
   "source": [
    "def label_count(url):\n",
    "    l_sum =len(url.split('.'))\n",
    "    return l_sum"
   ]
  },
  {
   "cell_type": "code",
   "execution_count": 20,
   "id": "4e37949a",
   "metadata": {},
   "outputs": [
    {
     "data": {
      "text/plain": [
       "4"
      ]
     },
     "execution_count": 20,
     "metadata": {},
     "output_type": "execute_result"
    }
   ],
   "source": [
    "label_count(url)"
   ]
  },
  {
   "cell_type": "code",
   "execution_count": 21,
   "id": "ddeb192d",
   "metadata": {},
   "outputs": [],
   "source": [
    "def label_max(url):\n",
    "    labels = url.split('.')\n",
    "    return max(([len(x) for x in labels]))"
   ]
  },
  {
   "cell_type": "code",
   "execution_count": 22,
   "id": "1b9c2fe6",
   "metadata": {},
   "outputs": [
    {
     "data": {
      "text/plain": [
       "28"
      ]
     },
     "execution_count": 22,
     "metadata": {},
     "output_type": "execute_result"
    }
   ],
   "source": [
    "label_max(url)"
   ]
  },
  {
   "cell_type": "code",
   "execution_count": 23,
   "id": "874149ee",
   "metadata": {},
   "outputs": [],
   "source": [
    "def label_avg(url):\n",
    "    labels = url.split('.')\n",
    "    return np.average(([len(x) for x in labels]))"
   ]
  },
  {
   "cell_type": "code",
   "execution_count": 24,
   "id": "7159df99",
   "metadata": {},
   "outputs": [
    {
     "data": {
      "text/plain": [
       "13.25"
      ]
     },
     "execution_count": 24,
     "metadata": {},
     "output_type": "execute_result"
    }
   ],
   "source": [
    "label_avg(url)"
   ]
  },
  {
   "cell_type": "code",
   "execution_count": 25,
   "id": "8fb5aa90",
   "metadata": {},
   "outputs": [],
   "source": [
    "def longest_word(url):\n",
    "    l_word = label_max(url)\n",
    "    lens = [len(x) for x in url.split('.')]\n",
    "    return url.split('.')[lens.index(max(lens))]"
   ]
  },
  {
   "cell_type": "code",
   "execution_count": 26,
   "id": "c877d6ff",
   "metadata": {},
   "outputs": [
    {
     "data": {
      "text/plain": [
       "'3964356131393331323865343962'"
      ]
     },
     "execution_count": 26,
     "metadata": {},
     "output_type": "execute_result"
    }
   ],
   "source": [
    "longest_word(url)"
   ]
  },
  {
   "cell_type": "code",
   "execution_count": 27,
   "id": "d48e0db1",
   "metadata": {},
   "outputs": [],
   "source": [
    "def second_level_D(url):\n",
    "    subdomain,sld_,suffix_=tldextract.extract(url)\n",
    "    return  sld_ "
   ]
  },
  {
   "cell_type": "code",
   "execution_count": 28,
   "id": "77921d36",
   "metadata": {},
   "outputs": [
    {
     "data": {
      "text/plain": [
       "'maliciousDomain'"
      ]
     },
     "execution_count": 28,
     "metadata": {},
     "output_type": "execute_result"
    }
   ],
   "source": [
    "second_level_D(url)"
   ]
  },
  {
   "cell_type": "code",
   "execution_count": 29,
   "id": "2101eec2",
   "metadata": {},
   "outputs": [],
   "source": [
    "def contains_subdomain(url):\n",
    "    subdomain,sld_,suffix_=tldextract.extract(url)\n",
    "    if len(subdomain) > 0:\n",
    "        return 1\n",
    "    else :\n",
    "        return 0"
   ]
  },
  {
   "cell_type": "code",
   "execution_count": 30,
   "id": "f5600222",
   "metadata": {},
   "outputs": [
    {
     "data": {
      "text/plain": [
       "1"
      ]
     },
     "execution_count": 30,
     "metadata": {},
     "output_type": "execute_result"
    }
   ],
   "source": [
    "contains_subdomain(url)"
   ]
  },
  {
   "cell_type": "code",
   "execution_count": 31,
   "id": "dfc2b9d9",
   "metadata": {},
   "outputs": [],
   "source": [
    "def sub_domain_len(url):\n",
    "    subdomain,sld,suffix_=tldextract.extract(url)\n",
    "    return chr_count_FQN(subdomain)+chr_count_FQN(sld)"
   ]
  },
  {
   "cell_type": "code",
   "execution_count": 32,
   "id": "85b471ad",
   "metadata": {},
   "outputs": [
    {
     "data": {
      "text/plain": [
       "50"
      ]
     },
     "execution_count": 32,
     "metadata": {},
     "output_type": "execute_result"
    }
   ],
   "source": [
    "sub_domain_len(url)"
   ]
  },
  {
   "cell_type": "code",
   "execution_count": 33,
   "id": "5eaa26cd",
   "metadata": {},
   "outputs": [],
   "source": [
    "def build_feature_df(url):\n",
    "    dictt = {'FQDN_count': chr_count_FQN(url),\n",
    "            'subdomain_length': sub_domain_count(url),\n",
    "            'upper': upper_count(url),\n",
    "            'lower': lower_count(url),\n",
    "            'numeric': numeric_count(url),\n",
    "            'entropy': entropy_count(url),\n",
    "            'special': chr_special_count(url),\n",
    "            'labels': label_count(url),\n",
    "            'labels_max': label_max(url),\n",
    "            'labels_average': label_avg(url),\n",
    "            'longest_word': longest_word(url),\n",
    "            'sld': second_level_D(url),\n",
    "            'len': sub_domain_len(url),\n",
    "            'subdomain': contains_subdomain(url)\n",
    "           }\n",
    "    \n",
    "    df = pd.DataFrame(dictt, index=[1])\n",
    "    return df"
   ]
  },
  {
   "cell_type": "code",
   "execution_count": 34,
   "id": "feedbbf7",
   "metadata": {},
   "outputs": [
    {
     "data": {
      "text/html": [
       "<div>\n",
       "<style scoped>\n",
       "    .dataframe tbody tr th:only-of-type {\n",
       "        vertical-align: middle;\n",
       "    }\n",
       "\n",
       "    .dataframe tbody tr th {\n",
       "        vertical-align: top;\n",
       "    }\n",
       "\n",
       "    .dataframe thead th {\n",
       "        text-align: right;\n",
       "    }\n",
       "</style>\n",
       "<table border=\"1\" class=\"dataframe\">\n",
       "  <thead>\n",
       "    <tr style=\"text-align: right;\">\n",
       "      <th></th>\n",
       "      <th>FQDN_count</th>\n",
       "      <th>subdomain_length</th>\n",
       "      <th>upper</th>\n",
       "      <th>lower</th>\n",
       "      <th>numeric</th>\n",
       "      <th>entropy</th>\n",
       "      <th>special</th>\n",
       "      <th>labels</th>\n",
       "      <th>labels_max</th>\n",
       "      <th>labels_average</th>\n",
       "      <th>longest_word</th>\n",
       "      <th>sld</th>\n",
       "      <th>len</th>\n",
       "      <th>subdomain</th>\n",
       "    </tr>\n",
       "  </thead>\n",
       "  <tbody>\n",
       "    <tr>\n",
       "      <th>1</th>\n",
       "      <td>53</td>\n",
       "      <td>35</td>\n",
       "      <td>5</td>\n",
       "      <td>19</td>\n",
       "      <td>29</td>\n",
       "      <td>4.1898</td>\n",
       "      <td>0</td>\n",
       "      <td>4</td>\n",
       "      <td>28</td>\n",
       "      <td>13.25</td>\n",
       "      <td>3964356131393331323865343962</td>\n",
       "      <td>maliciousDomain</td>\n",
       "      <td>50</td>\n",
       "      <td>1</td>\n",
       "    </tr>\n",
       "  </tbody>\n",
       "</table>\n",
       "</div>"
      ],
      "text/plain": [
       "   FQDN_count  subdomain_length  upper  lower  numeric  entropy  special  \\\n",
       "1          53                35      5     19       29   4.1898        0   \n",
       "\n",
       "   labels  labels_max  labels_average                  longest_word  \\\n",
       "1       4          28           13.25  3964356131393331323865343962   \n",
       "\n",
       "               sld  len  subdomain  \n",
       "1  maliciousDomain   50          1  "
      ]
     },
     "metadata": {},
     "output_type": "display_data"
    }
   ],
   "source": [
    "df = build_feature_df(url)\n",
    "display(df.head())"
   ]
  },
  {
   "cell_type": "code",
   "execution_count": null,
   "id": "63d37a9d",
   "metadata": {},
   "outputs": [],
   "source": []
  }
 ],
 "metadata": {
  "kernelspec": {
   "display_name": "Python 3 (ipykernel)",
   "language": "python",
   "name": "python3"
  },
  "language_info": {
   "codemirror_mode": {
    "name": "ipython",
    "version": 3
   },
   "file_extension": ".py",
   "mimetype": "text/x-python",
   "name": "python",
   "nbconvert_exporter": "python",
   "pygments_lexer": "ipython3",
   "version": "3.9.7"
  }
 },
 "nbformat": 4,
 "nbformat_minor": 5
}
